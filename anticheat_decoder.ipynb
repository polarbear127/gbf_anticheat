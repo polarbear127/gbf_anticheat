{
 "cells": [
  {
   "cell_type": "code",
   "execution_count": 52,
   "metadata": {},
   "outputs": [],
   "source": [
    "def d(my_word):\n",
    "    my_dict = {\"b\":\"this\", \\\n",
    "            \"c\":0, \\\n",
    "            \"d\":1, \\\n",
    "            \"e\":\"\", \\\n",
    "            \"f\":\" \", \\\n",
    "            \"g\":'\"', \\\n",
    "            \"h\":\"#\", \\\n",
    "            \"i\":\"*\", \\\n",
    "            \"j\":\",\", \\\n",
    "            \"k\":\"-\", \\\n",
    "            \"l\":\"/\", \\\n",
    "            \"m\":\"1\", \\\n",
    "            \"n\":\"3\", \\\n",
    "            \"o\":\"5\", \\\n",
    "            \"p\":\":\", \\\n",
    "            \"q\":\"=\", \\\n",
    "            \"r\":\"A\", \\\n",
    "            \"s\":\"D\", \\\n",
    "            \"t\":\"F\", \\\n",
    "            \"u\":\"G\", \\\n",
    "            \"v\":\"I\", \\\n",
    "            \"w\":\"J\", \\\n",
    "            \"x\":\"M\", \\\n",
    "            \"y\":\"N\", \\\n",
    "            \"z\":\"O\", \\\n",
    "            \"A\":\"P\", \\\n",
    "            \"B\":\"S\", \\\n",
    "            \"C\":\"T\", \\\n",
    "            \"D\":\"U\", \\\n",
    "            \"E\":\"[\", \\\n",
    "            \"F\":\"]\", \\\n",
    "            \"G\":\"^\", \\\n",
    "            \"H\":\"_\", \\\n",
    "            \"I\":\"a\", \\\n",
    "            \"J\":\"b\", \\\n",
    "            \"K\":\"c\", \\\n",
    "            \"L\":\"d\", \\\n",
    "            \"M\":\"e\", \\\n",
    "            \"N\":\"f\", \\\n",
    "            \"O\":\"g\", \\\n",
    "            \"P\":\"h\", \\\n",
    "            \"Q\":\"i\", \\\n",
    "            \"R\":\"j\", \\\n",
    "            \"S\":\"k\", \\\n",
    "            \"T\":\"l\", \\\n",
    "            \"U\":\"m\", \\\n",
    "            \"V\":\"n\", \\\n",
    "            \"W\":\"o\", \\\n",
    "            \"X\":\"p\", \\\n",
    "            \"Y\":\"r\", \\\n",
    "            \"Z\":\"s\", \\\n",
    "            \"$\":\"t\", \\\n",
    "            \"_\":\"u\", \\\n",
    "            \"aa\":\"v\", \\\n",
    "            \"ba\":\"w\", \\\n",
    "            \"ca\":\"x\", \\\n",
    "            \"da\":\"y\", \\\n",
    "            \"ea\":1001, \\\n",
    "            \"fa\":4001, \\\n",
    "            \"ga\":7001, \\\n",
    "            \"ha\":7002, \\\n",
    "            \"ia\":8001, \\\n",
    "            \"ja\":8002, \\\n",
    "            \"ka\":9001, \\\n",
    "            \"la\":9002, \\\n",
    "            \"ma\":9003, \\\n",
    "            \"na\":9004, \\\n",
    "            \"oa\":9005, \\\n",
    "            \"pa\":511, \\\n",
    "            \"qa\":3011, \\\n",
    "            \"ra\":5011, \\\n",
    "            \"sa\":10111, \\\n",
    "            \"ta\":20011, \\\n",
    "            \"ua\":50101, \\\n",
    "            \"va\":60101, \\\n",
    "            \"wa\":\"join\", \\\n",
    "            \"xa\":\"makeArray\"}\n",
    "    array = str(my_word).replace(\" \", \"\").split(\",\")\n",
    "    result = []\n",
    "    for i in array:\n",
    "        result.append(my_dict[i])\n",
    "    return \"\".join(result)"
   ]
  },
  {
   "cell_type": "code",
   "execution_count": 53,
   "metadata": {},
   "outputs": [
    {
     "data": {
      "text/plain": [
       "'application/json'"
      ]
     },
     "execution_count": 53,
     "metadata": {},
     "output_type": "execute_result"
    }
   ],
   "source": [
    "d(\"I, X, X, T, Q, K, I, $, Q, W, V, l, R, Z, W, V\")"
   ]
  },
  {
   "cell_type": "code",
   "execution_count": null,
   "metadata": {},
   "outputs": [],
   "source": []
  }
 ],
 "metadata": {
  "kernelspec": {
   "display_name": "Python 3",
   "language": "python",
   "name": "python3"
  },
  "language_info": {
   "codemirror_mode": {
    "name": "ipython",
    "version": 3
   },
   "file_extension": ".py",
   "mimetype": "text/x-python",
   "name": "python",
   "nbconvert_exporter": "python",
   "pygments_lexer": "ipython3",
   "version": "3.7.3"
  }
 },
 "nbformat": 4,
 "nbformat_minor": 2
}
